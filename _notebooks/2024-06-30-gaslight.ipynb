{
 "cells": [
  {
   "cell_type": "markdown",
   "id": "5fc39e8f",
   "metadata": {},
   "source": [
    "# Game: Find the most effective way to gaslight large language model🤥\n",
    "> Two player text game\n",
    "\n",
    "- toc: true\n",
    "- branch: master\n",
    "- badges: true\n",
    "- comments: true\n",
    "- author: Jaekang Lee\n",
    "- categories: [fastpages, python, large_langauge_model, prompt_engineering, agent, agentic_workflow]"
   ]
  },
  {
   "cell_type": "markdown",
   "id": "5e6e3e26",
   "metadata": {},
   "source": [
    "## Introduction & Background\n",
    "The growing non-medical use of prescription drugs is a\n",
    "global health concern. The Canadian’s Non-Medical Use of Prescription Drugs Survey data\n",
    "collected by RADARS® System gives an opportunity to understand the situation. Our team\n",
    "explored the raw survey data by visualizing, and came up with three research questions for\n",
    "the report."
   ]
  },
  {
   "cell_type": "code",
   "execution_count": null,
   "id": "20e291f5",
   "metadata": {},
   "outputs": [],
   "source": []
  }
 ],
 "metadata": {
  "kernelspec": {
   "display_name": "Python 3",
   "language": "python",
   "name": "python3"
  },
  "language_info": {
   "codemirror_mode": {
    "name": "ipython",
    "version": 3
   },
   "file_extension": ".py",
   "mimetype": "text/x-python",
   "name": "python",
   "nbconvert_exporter": "python",
   "pygments_lexer": "ipython3",
   "version": "3.8.5"
  }
 },
 "nbformat": 4,
 "nbformat_minor": 5
}
